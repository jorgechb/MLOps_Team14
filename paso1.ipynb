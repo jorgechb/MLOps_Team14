{
  "nbformat": 4,
  "nbformat_minor": 0,
  "metadata": {
    "colab": {
      "provenance": []
    },
    "kernelspec": {
      "name": "python3",
      "display_name": "Python 3"
    },
    "language_info": {
      "name": "python"
    }
  },
  "cells": [
    {
      "cell_type": "code",
      "execution_count": null,
      "metadata": {
        "colab": {
          "base_uri": "https://localhost:8080/"
        },
        "id": "V4ZQAVwv679a",
        "outputId": "fb145baa-d0f5-4690-dae8-ca9f4dc7d6a5"
      },
      "outputs": [
        {
          "output_type": "stream",
          "name": "stdout",
          "text": [
            "Collecting ucimlrepo\n",
            "  Downloading ucimlrepo-0.0.7-py3-none-any.whl.metadata (5.5 kB)\n",
            "Requirement already satisfied: pandas>=1.0.0 in /usr/local/lib/python3.10/dist-packages (from ucimlrepo) (2.2.2)\n",
            "Requirement already satisfied: certifi>=2020.12.5 in /usr/local/lib/python3.10/dist-packages (from ucimlrepo) (2024.8.30)\n",
            "Requirement already satisfied: numpy>=1.22.4 in /usr/local/lib/python3.10/dist-packages (from pandas>=1.0.0->ucimlrepo) (1.26.4)\n",
            "Requirement already satisfied: python-dateutil>=2.8.2 in /usr/local/lib/python3.10/dist-packages (from pandas>=1.0.0->ucimlrepo) (2.8.2)\n",
            "Requirement already satisfied: pytz>=2020.1 in /usr/local/lib/python3.10/dist-packages (from pandas>=1.0.0->ucimlrepo) (2024.2)\n",
            "Requirement already satisfied: tzdata>=2022.7 in /usr/local/lib/python3.10/dist-packages (from pandas>=1.0.0->ucimlrepo) (2024.2)\n",
            "Requirement already satisfied: six>=1.5 in /usr/local/lib/python3.10/dist-packages (from python-dateutil>=2.8.2->pandas>=1.0.0->ucimlrepo) (1.16.0)\n",
            "Downloading ucimlrepo-0.0.7-py3-none-any.whl (8.0 kB)\n",
            "Installing collected packages: ucimlrepo\n",
            "Successfully installed ucimlrepo-0.0.7\n"
          ]
        }
      ],
      "source": [
        "pip install ucimlrepo"
      ]
    },
    {
      "cell_type": "code",
      "source": [
        "from ucimlrepo import fetch_ucirepo\n",
        "\n",
        "# fetch dataset\n",
        "secondary_mushroom = fetch_ucirepo(id=848)\n",
        "\n",
        "# data (as pandas dataframes)\n",
        "X = secondary_mushroom.data.features\n",
        "y = secondary_mushroom.data.targets\n",
        "\n",
        "# metadata\n",
        "print(secondary_mushroom.metadata)\n",
        "\n",
        "# variable information\n",
        "print(secondary_mushroom.variables)"
      ],
      "metadata": {
        "colab": {
          "base_uri": "https://localhost:8080/"
        },
        "id": "LkrxAoxD69PB",
        "outputId": "e6e8f05a-fa44-4ab3-de9f-6710cb82e877"
      },
      "execution_count": null,
      "outputs": [
        {
          "output_type": "stream",
          "name": "stdout",
          "text": [
            "{'uci_id': 848, 'name': 'Secondary Mushroom', 'repository_url': 'https://archive.ics.uci.edu/dataset/848/secondary+mushroom+dataset', 'data_url': 'https://archive.ics.uci.edu/static/public/848/data.csv', 'abstract': 'Dataset of simulated mushrooms for binary classification into edible and poisonous.', 'area': 'Biology', 'tasks': ['Classification'], 'characteristics': ['Tabular'], 'num_instances': 61068, 'num_features': 20, 'feature_types': ['Real'], 'demographics': [], 'target_col': ['class'], 'index_col': None, 'has_missing_values': 'yes', 'missing_values_symbol': 'NaN', 'year_of_dataset_creation': 2021, 'last_updated': 'Wed Apr 10 2024', 'dataset_doi': '10.24432/C5FP5Q', 'creators': ['Dennis Wagner', 'D. Heider', 'Georges Hattab'], 'intro_paper': {'ID': 259, 'type': 'NATIVE', 'title': 'Mushroom data creation, curation, and simulation to support classification tasks', 'authors': 'Dennis Wagner, D. Heider, Georges Hattab', 'venue': 'Scientific Reports', 'year': 2021, 'journal': None, 'DOI': None, 'URL': 'https://www.semanticscholar.org/paper/336be248b6f1c5d77c3c93e89f2e19e7344b0250', 'sha': None, 'corpus': None, 'arxiv': None, 'mag': None, 'acl': None, 'pmid': None, 'pmcid': None}, 'additional_info': {'summary': 'The given information is about the Secondary Mushroom Dataset, the Primary Mushroom Dataset used for the simulation and the respective metadata can be found in the zip.\\n\\nThis dataset includes 61069 hypothetical mushrooms with caps based on 173 species (353 mushrooms\\nper species). Each mushroom is identified as definitely edible, definitely poisonous, or of\\nunknown edibility and not recommended (the latter class was combined with the poisonous class).\\n\\nThe related Python project contains a Python module secondary_data_generation.py\\nused to generate this data based on primary_data_edited.csv also found in the repository.\\nBoth nominal and metrical variables are a result of randomization.\\nThe simulated and ordered by species version is found in secondary_data_generated.csv.\\nThe randomly shuffled version is found in secondary_data_shuffled.csv.', 'purpose': 'Inspired by the Mushroom Data Set of J. Schlimmer: url:https://archive.ics.uci.edu/ml/datasets/Mushroom.', 'funded_by': None, 'instances_represent': None, 'recommended_data_splits': None, 'sensitive_data': None, 'preprocessing_description': None, 'variable_info': 'One binary class divided in edible=e and poisonous=p (with the latter one also containing mushrooms of unknown edibility).\\nTwenty remaining variables (n: nominal, m: metrical)\\n1. cap-diameter (m): float number in cm\\n2. cap-shape (n): bell=b, conical=c, convex=x, flat=f,\\nsunken=s, spherical=p, others=o\\n3. cap-surface (n): fibrous=i, grooves=g, scaly=y, smooth=s,\\nshiny=h, leathery=l, silky=k, sticky=t,\\nwrinkled=w, fleshy=e\\n4. cap-color (n): brown=n, buff=b, gray=g, green=r, pink=p,\\npurple=u, red=e, white=w, yellow=y, blue=l,\\norange=o, black=k\\n5. does-bruise-bleed (n): bruises-or-bleeding=t,no=f\\n6. gill-attachment (n): adnate=a, adnexed=x, decurrent=d, free=e,\\nsinuate=s, pores=p, none=f, unknown=?\\n7. gill-spacing (n): close=c, distant=d, none=f\\n8. gill-color (n): see cap-color + none=f\\n9. stem-height (m): float number in cm\\n10. stem-width (m): float number in mm\\n11. stem-root (n): bulbous=b, swollen=s, club=c, cup=u, equal=e,\\nrhizomorphs=z, rooted=r\\n12. stem-surface (n): see cap-surface + none=f\\n13. stem-color (n): see cap-color + none=f\\n14. veil-type (n): partial=p, universal=u\\n15. veil-color (n): see cap-color + none=f\\n16. has-ring (n): ring=t, none=f\\n17. ring-type (n): cobwebby=c, evanescent=e, flaring=r, grooved=g,\\nlarge=l, pendant=p, sheathing=s, zone=z, scaly=y, movable=m, none=f, unknown=?\\n18. spore-print-color (n): see cap color\\n19. habitat (n): grasses=g, leaves=l, meadows=m, paths=p, heaths=h,\\nurban=u, waste=w, woods=d\\n20. season (n): spring=s, summer=u, autumn=a, winter=w', 'citation': None}}\n",
            "                    name     role         type demographic description units  \\\n",
            "0                  class   Target  Categorical        None        None  None   \n",
            "1           cap-diameter  Feature   Continuous        None        None  None   \n",
            "2              cap-shape  Feature  Categorical        None        None  None   \n",
            "3            cap-surface  Feature  Categorical        None        None  None   \n",
            "4              cap-color  Feature  Categorical        None        None  None   \n",
            "5   does-bruise-or-bleed  Feature  Categorical        None        None  None   \n",
            "6        gill-attachment  Feature  Categorical        None        None  None   \n",
            "7           gill-spacing  Feature  Categorical        None        None  None   \n",
            "8             gill-color  Feature  Categorical        None        None  None   \n",
            "9            stem-height  Feature   Continuous        None        None  None   \n",
            "10            stem-width  Feature   Continuous        None        None  None   \n",
            "11             stem-root  Feature  Categorical        None        None  None   \n",
            "12          stem-surface  Feature  Categorical        None        None  None   \n",
            "13            stem-color  Feature  Categorical        None        None  None   \n",
            "14             veil-type  Feature  Categorical        None        None  None   \n",
            "15            veil-color  Feature  Categorical        None        None  None   \n",
            "16              has-ring  Feature  Categorical        None        None  None   \n",
            "17             ring-type  Feature  Categorical        None        None  None   \n",
            "18     spore-print-color  Feature  Categorical        None        None  None   \n",
            "19               habitat  Feature  Categorical        None        None  None   \n",
            "20                season  Feature  Categorical        None        None  None   \n",
            "\n",
            "   missing_values  \n",
            "0              no  \n",
            "1              no  \n",
            "2              no  \n",
            "3             yes  \n",
            "4              no  \n",
            "5              no  \n",
            "6             yes  \n",
            "7             yes  \n",
            "8              no  \n",
            "9              no  \n",
            "10             no  \n",
            "11            yes  \n",
            "12            yes  \n",
            "13             no  \n",
            "14            yes  \n",
            "15            yes  \n",
            "16             no  \n",
            "17            yes  \n",
            "18            yes  \n",
            "19             no  \n",
            "20             no  \n"
          ]
        }
      ]
    },
    {
      "cell_type": "code",
      "source": [
        "import pandas as pd\n",
        "from ucimlrepo import fetch_ucirepo\n",
        "\n",
        "# Fetch dataset\n",
        "secondary_mushroom = fetch_ucirepo(id=848)\n",
        "\n",
        "# Data as pandas dataframes\n",
        "X = secondary_mushroom.data.features\n",
        "y = secondary_mushroom.data.targets\n",
        "\n",
        "# Convertir X y y en un DataFrame completo\n",
        "data = pd.concat([X, y], axis=1)\n",
        "\n",
        "# Ver los primeros registros del conjunto de datos\n",
        "print(data.head())\n",
        "\n",
        "# Verificar los tipos de datos y valores nulos\n",
        "print(data.info())\n",
        "\n",
        "# Eliminar filas con valores nulos\n",
        "data_cleaned = data.dropna()\n",
        "\n",
        "# Opcional: Eliminar filas donde la columna \"class\" tenga valores inconsistentes (por ejemplo, valores no válidos)\n",
        "# Suponiendo que 'class' tiene valores válidos específicos. Reemplaza 'valores_validos' con los valores permitidos.\n",
        "valores_validos = data['class'].unique()  # Obtener los valores únicos de la columna 'class'\n",
        "\n",
        "# Filtrar filas con valores no válidos en la columna 'class'\n",
        "data_cleaned = data_cleaned[data_cleaned['class'].isin(valores_validos)]\n",
        "\n",
        "# Verificar el resultado después de la limpieza\n",
        "print(data_cleaned.info())\n",
        "print(data_cleaned.head())\n"
      ],
      "metadata": {
        "colab": {
          "base_uri": "https://localhost:8080/"
        },
        "id": "f6Dz8Uis7BGm",
        "outputId": "4235b8ef-14d1-46ac-8716-3bf8bae64823"
      },
      "execution_count": null,
      "outputs": [
        {
          "output_type": "stream",
          "name": "stdout",
          "text": [
            "   cap-diameter cap-shape cap-surface cap-color does-bruise-or-bleed  \\\n",
            "0         15.26         x           g         o                    f   \n",
            "1         16.60         x           g         o                    f   \n",
            "2         14.07         x           g         o                    f   \n",
            "3         14.17         f           h         e                    f   \n",
            "4         14.64         x           h         o                    f   \n",
            "\n",
            "  gill-attachment gill-spacing gill-color  stem-height  stem-width  ...  \\\n",
            "0               e          NaN          w        16.95       17.09  ...   \n",
            "1               e          NaN          w        17.99       18.19  ...   \n",
            "2               e          NaN          w        17.80       17.74  ...   \n",
            "3               e          NaN          w        15.77       15.98  ...   \n",
            "4               e          NaN          w        16.53       17.20  ...   \n",
            "\n",
            "  stem-surface stem-color veil-type veil-color has-ring ring-type  \\\n",
            "0            y          w         u          w        t         g   \n",
            "1            y          w         u          w        t         g   \n",
            "2            y          w         u          w        t         g   \n",
            "3            y          w         u          w        t         p   \n",
            "4            y          w         u          w        t         p   \n",
            "\n",
            "  spore-print-color habitat season class  \n",
            "0               NaN       d      w     p  \n",
            "1               NaN       d      u     p  \n",
            "2               NaN       d      w     p  \n",
            "3               NaN       d      w     p  \n",
            "4               NaN       d      w     p  \n",
            "\n",
            "[5 rows x 21 columns]\n",
            "<class 'pandas.core.frame.DataFrame'>\n",
            "RangeIndex: 61069 entries, 0 to 61068\n",
            "Data columns (total 21 columns):\n",
            " #   Column                Non-Null Count  Dtype  \n",
            "---  ------                --------------  -----  \n",
            " 0   cap-diameter          61069 non-null  float64\n",
            " 1   cap-shape             61069 non-null  object \n",
            " 2   cap-surface           46949 non-null  object \n",
            " 3   cap-color             61069 non-null  object \n",
            " 4   does-bruise-or-bleed  61069 non-null  object \n",
            " 5   gill-attachment       51185 non-null  object \n",
            " 6   gill-spacing          36006 non-null  object \n",
            " 7   gill-color            61069 non-null  object \n",
            " 8   stem-height           61069 non-null  float64\n",
            " 9   stem-width            61069 non-null  float64\n",
            " 10  stem-root             9531 non-null   object \n",
            " 11  stem-surface          22945 non-null  object \n",
            " 12  stem-color            61069 non-null  object \n",
            " 13  veil-type             3177 non-null   object \n",
            " 14  veil-color            7413 non-null   object \n",
            " 15  has-ring              61069 non-null  object \n",
            " 16  ring-type             58598 non-null  object \n",
            " 17  spore-print-color     6354 non-null   object \n",
            " 18  habitat               61069 non-null  object \n",
            " 19  season                61069 non-null  object \n",
            " 20  class                 61069 non-null  object \n",
            "dtypes: float64(3), object(18)\n",
            "memory usage: 9.8+ MB\n",
            "None\n",
            "<class 'pandas.core.frame.DataFrame'>\n",
            "Index: 0 entries\n",
            "Data columns (total 21 columns):\n",
            " #   Column                Non-Null Count  Dtype  \n",
            "---  ------                --------------  -----  \n",
            " 0   cap-diameter          0 non-null      float64\n",
            " 1   cap-shape             0 non-null      object \n",
            " 2   cap-surface           0 non-null      object \n",
            " 3   cap-color             0 non-null      object \n",
            " 4   does-bruise-or-bleed  0 non-null      object \n",
            " 5   gill-attachment       0 non-null      object \n",
            " 6   gill-spacing          0 non-null      object \n",
            " 7   gill-color            0 non-null      object \n",
            " 8   stem-height           0 non-null      float64\n",
            " 9   stem-width            0 non-null      float64\n",
            " 10  stem-root             0 non-null      object \n",
            " 11  stem-surface          0 non-null      object \n",
            " 12  stem-color            0 non-null      object \n",
            " 13  veil-type             0 non-null      object \n",
            " 14  veil-color            0 non-null      object \n",
            " 15  has-ring              0 non-null      object \n",
            " 16  ring-type             0 non-null      object \n",
            " 17  spore-print-color     0 non-null      object \n",
            " 18  habitat               0 non-null      object \n",
            " 19  season                0 non-null      object \n",
            " 20  class                 0 non-null      object \n",
            "dtypes: float64(3), object(18)\n",
            "memory usage: 0.0+ bytes\n",
            "None\n",
            "Empty DataFrame\n",
            "Columns: [cap-diameter, cap-shape, cap-surface, cap-color, does-bruise-or-bleed, gill-attachment, gill-spacing, gill-color, stem-height, stem-width, stem-root, stem-surface, stem-color, veil-type, veil-color, has-ring, ring-type, spore-print-color, habitat, season, class]\n",
            "Index: []\n",
            "\n",
            "[0 rows x 21 columns]\n"
          ]
        }
      ]
    },
    {
      "cell_type": "code",
      "source": [
        "print(data_cleaned.shape)  # Verifica las dimensiones\n",
        "print(data_cleaned.head())  # Muestra las primeras filas para verificar datos\n"
      ],
      "metadata": {
        "colab": {
          "base_uri": "https://localhost:8080/"
        },
        "id": "SFycQM7J8hLL",
        "outputId": "97ec1748-bcef-4ffb-b00d-14e311ab41b0"
      },
      "execution_count": null,
      "outputs": [
        {
          "output_type": "stream",
          "name": "stdout",
          "text": [
            "(0, 4)\n",
            "Empty DataFrame\n",
            "Columns: [cap-diameter, stem-height, stem-width, class]\n",
            "Index: []\n"
          ]
        }
      ]
    },
    {
      "cell_type": "code",
      "source": [
        "print(data.isnull().sum())  # Contar valores nulos en cada columna del DataFrame original\n"
      ],
      "metadata": {
        "colab": {
          "base_uri": "https://localhost:8080/"
        },
        "id": "8R9qFmg88sAc",
        "outputId": "d5731df3-a55e-45df-d313-57f4a263e4bd"
      },
      "execution_count": null,
      "outputs": [
        {
          "output_type": "stream",
          "name": "stdout",
          "text": [
            "cap-diameter                0\n",
            "cap-shape                   0\n",
            "cap-surface             14120\n",
            "cap-color                   0\n",
            "does-bruise-or-bleed        0\n",
            "gill-attachment          9884\n",
            "gill-spacing            25063\n",
            "gill-color                  0\n",
            "stem-height                 0\n",
            "stem-width                  0\n",
            "stem-root               51538\n",
            "stem-surface            38124\n",
            "stem-color                  0\n",
            "veil-type               57892\n",
            "veil-color              53656\n",
            "has-ring                    0\n",
            "ring-type                2471\n",
            "spore-print-color       54715\n",
            "habitat                     0\n",
            "season                      0\n",
            "class                       0\n",
            "dtype: int64\n"
          ]
        }
      ]
    },
    {
      "cell_type": "code",
      "source": [
        "for col in data.columns:\n",
        "    print(f'Valores únicos en {col}: {data[col].unique()}')\n"
      ],
      "metadata": {
        "colab": {
          "base_uri": "https://localhost:8080/"
        },
        "id": "kz39HS-G8wNL",
        "outputId": "e3c89bea-5eab-4eb5-d5c7-ed88d7a640e0"
      },
      "execution_count": null,
      "outputs": [
        {
          "output_type": "stream",
          "name": "stdout",
          "text": [
            "Valores únicos en cap-diameter: [15.26 16.6  14.07 ... 22.85 21.8  20.42]\n",
            "Valores únicos en cap-shape: ['x' 'f' 'p' 'b' 'c' 's' 'o']\n",
            "Valores únicos en cap-surface: ['g' 'h' nan 't' 'y' 'e' 's' 'l' 'd' 'w' 'i' 'k']\n",
            "Valores únicos en cap-color: ['o' 'e' 'n' 'g' 'r' 'w' 'y' 'p' 'u' 'b' 'l' 'k']\n",
            "Valores únicos en does-bruise-or-bleed: ['f' 't']\n",
            "Valores únicos en gill-attachment: ['e' nan 'a' 'd' 's' 'x' 'p' 'f']\n",
            "Valores únicos en gill-spacing: [nan 'c' 'd' 'f']\n",
            "Valores únicos en gill-color: ['w' 'n' 'p' 'u' 'b' 'g' 'y' 'r' 'e' 'o' 'k' 'f']\n",
            "Valores únicos en stem-height: [16.95 17.99 17.8  ...  1.23  1.16  0.  ]\n",
            "Valores únicos en stem-width: [17.09 18.19 17.74 ... 32.59 30.99 30.51]\n",
            "Valores únicos en stem-root: ['s' nan 'b' 'r' 'c' 'f']\n",
            "Valores únicos en stem-surface: ['y' nan 's' 'k' 'i' 'h' 't' 'g' 'f']\n",
            "Valores únicos en stem-color: ['w' 'y' 'n' 'u' 'b' 'l' 'r' 'p' 'e' 'k' 'g' 'o' 'f']\n",
            "Valores únicos en veil-type: ['u' nan]\n",
            "Valores únicos en veil-color: ['w' 'y' nan 'n' 'e' 'u' 'k']\n",
            "Valores únicos en has-ring: ['t' 'f']\n",
            "Valores únicos en ring-type: ['g' 'p' 'e' 'l' 'f' 'm' nan 'r' 'z']\n",
            "Valores únicos en spore-print-color: [nan 'w' 'p' 'k' 'r' 'u' 'n' 'g']\n",
            "Valores únicos en habitat: ['d' 'm' 'g' 'h' 'l' 'p' 'w' 'u']\n",
            "Valores únicos en season: ['w' 'u' 'a' 's']\n",
            "Valores únicos en class: ['p' 'e']\n"
          ]
        }
      ]
    },
    {
      "cell_type": "code",
      "source": [
        "import pandas as pd\n",
        "from ucimlrepo import fetch_ucirepo\n",
        "from sklearn.model_selection import train_test_split\n",
        "from sklearn.preprocessing import StandardScaler, LabelEncoder\n",
        "\n",
        "# Fetch dataset\n",
        "secondary_mushroom = fetch_ucirepo(id=848)\n",
        "\n",
        "# Data as pandas dataframes\n",
        "X = secondary_mushroom.data.features\n",
        "y = secondary_mushroom.data.targets\n",
        "\n",
        "# Convertir X y y en un DataFrame completo\n",
        "data = pd.concat([X, y], axis=1)\n",
        "\n",
        "# Verificar valores nulos en el DataFrame original\n",
        "print(\"Valores nulos en el DataFrame original:\")\n",
        "print(data.isnull().sum())\n",
        "\n",
        "# Verificar valores únicos en cada columna\n",
        "for col in data.columns:\n",
        "    print(f'Valores únicos en {col}: {data[col].unique()}')\n",
        "\n",
        "# Estrategia de limpieza alternativa: Rellenar valores nulos o eliminar filas con valores nulos solo en columnas específicas\n",
        "data_cleaned = data.dropna(subset=['cap-diameter', 'stem-height', 'stem-width', 'class'])\n",
        "\n",
        "# Comprobar dimensiones después de la limpieza\n",
        "print(\"Dimensiones después de la limpieza:\", data_cleaned.shape)\n",
        "\n",
        "# Transformaciones necesarias para preparar los datos\n",
        "\n",
        "# 1. Codificación de variables categóricas\n",
        "# Identificar columnas categóricas\n",
        "categorical_cols = data_cleaned.select_dtypes(include=['object']).columns\n",
        "\n",
        "# Usar Label Encoding para la columna objetivo (class)\n",
        "label_encoder = LabelEncoder()\n",
        "data_cleaned['class'] = label_encoder.fit_transform(data_cleaned['class'])\n",
        "\n",
        "# Aplicar One-Hot Encoding solo si hay columnas categóricas\n",
        "if not categorical_cols.empty:\n",
        "    data_cleaned = pd.get_dummies(data_cleaned, columns=categorical_cols.drop('class'), drop_first=True)\n",
        "\n",
        "# 2. Normalización de características\n",
        "X = data_cleaned.drop('class', axis=1)\n",
        "y = data_cleaned['class']\n",
        "\n",
        "# Verificar dimensiones de X\n",
        "print(\"Dimensiones de X:\", X.shape)\n",
        "\n",
        "# Normalizar características usando StandardScaler solo si hay filas\n",
        "if X.shape[0] > 0:\n",
        "    scaler = StandardScaler()\n",
        "    X_scaled = scaler.fit_transform(X)\n",
        "else:\n",
        "    print(\"No hay datos suficientes para normalizar.\")\n",
        "\n",
        "# 3. Dividir el conjunto de datos en entrenamiento y prueba\n",
        "if X.shape[0] > 0:\n",
        "    X_train, X_test, y_train, y_test = train_test_split(X_scaled, y, test_size=0.2, random_state=42)\n",
        "    print(f'Tamaño del conjunto de entrenamiento: {X_train.shape[0]}')\n",
        "    print(f'Tamaño del conjunto de prueba: {X_test.shape[0]}')\n",
        "else:\n",
        "    print(\"No se pudo realizar la división en entrenamiento y prueba debido a datos insuficientes.\")\n"
      ],
      "metadata": {
        "colab": {
          "base_uri": "https://localhost:8080/"
        },
        "id": "XNwrPo8H82pD",
        "outputId": "a0406325-1ff3-480e-e618-3eafb9191711"
      },
      "execution_count": null,
      "outputs": [
        {
          "output_type": "stream",
          "name": "stdout",
          "text": [
            "Valores nulos en el DataFrame original:\n",
            "cap-diameter                0\n",
            "cap-shape                   0\n",
            "cap-surface             14120\n",
            "cap-color                   0\n",
            "does-bruise-or-bleed        0\n",
            "gill-attachment          9884\n",
            "gill-spacing            25063\n",
            "gill-color                  0\n",
            "stem-height                 0\n",
            "stem-width                  0\n",
            "stem-root               51538\n",
            "stem-surface            38124\n",
            "stem-color                  0\n",
            "veil-type               57892\n",
            "veil-color              53656\n",
            "has-ring                    0\n",
            "ring-type                2471\n",
            "spore-print-color       54715\n",
            "habitat                     0\n",
            "season                      0\n",
            "class                       0\n",
            "dtype: int64\n",
            "Valores únicos en cap-diameter: [15.26 16.6  14.07 ... 22.85 21.8  20.42]\n",
            "Valores únicos en cap-shape: ['x' 'f' 'p' 'b' 'c' 's' 'o']\n",
            "Valores únicos en cap-surface: ['g' 'h' nan 't' 'y' 'e' 's' 'l' 'd' 'w' 'i' 'k']\n",
            "Valores únicos en cap-color: ['o' 'e' 'n' 'g' 'r' 'w' 'y' 'p' 'u' 'b' 'l' 'k']\n",
            "Valores únicos en does-bruise-or-bleed: ['f' 't']\n",
            "Valores únicos en gill-attachment: ['e' nan 'a' 'd' 's' 'x' 'p' 'f']\n",
            "Valores únicos en gill-spacing: [nan 'c' 'd' 'f']\n",
            "Valores únicos en gill-color: ['w' 'n' 'p' 'u' 'b' 'g' 'y' 'r' 'e' 'o' 'k' 'f']\n",
            "Valores únicos en stem-height: [16.95 17.99 17.8  ...  1.23  1.16  0.  ]\n",
            "Valores únicos en stem-width: [17.09 18.19 17.74 ... 32.59 30.99 30.51]\n",
            "Valores únicos en stem-root: ['s' nan 'b' 'r' 'c' 'f']\n",
            "Valores únicos en stem-surface: ['y' nan 's' 'k' 'i' 'h' 't' 'g' 'f']\n",
            "Valores únicos en stem-color: ['w' 'y' 'n' 'u' 'b' 'l' 'r' 'p' 'e' 'k' 'g' 'o' 'f']\n",
            "Valores únicos en veil-type: ['u' nan]\n",
            "Valores únicos en veil-color: ['w' 'y' nan 'n' 'e' 'u' 'k']\n",
            "Valores únicos en has-ring: ['t' 'f']\n",
            "Valores únicos en ring-type: ['g' 'p' 'e' 'l' 'f' 'm' nan 'r' 'z']\n",
            "Valores únicos en spore-print-color: [nan 'w' 'p' 'k' 'r' 'u' 'n' 'g']\n",
            "Valores únicos en habitat: ['d' 'm' 'g' 'h' 'l' 'p' 'w' 'u']\n",
            "Valores únicos en season: ['w' 'u' 'a' 's']\n",
            "Valores únicos en class: ['p' 'e']\n",
            "Dimensiones después de la limpieza: (61069, 21)\n",
            "Dimensiones de X: (61069, 102)\n",
            "Tamaño del conjunto de entrenamiento: 48855\n",
            "Tamaño del conjunto de prueba: 12214\n"
          ]
        }
      ]
    },
    {
      "cell_type": "code",
      "source": [
        "# # import pandas as pd\n",
        "# # from ucimlrepo import fetch_ucirepo\n",
        "# # from sklearn.model_selection import train_test_split\n",
        "# # from sklearn.preprocessing import StandardScaler, LabelEncoder\n",
        "\n",
        "# # Fetch dataset\n",
        "# secondary_mushroom = fetch_ucirepo(id=848)\n",
        "\n",
        "# # Data as pandas dataframes\n",
        "# X = secondary_mushroom.data.features\n",
        "# y = secondary_mushroom.data.targets\n",
        "\n",
        "# # Convertir X y y en un DataFrame completo\n",
        "# data = pd.concat([X, y], axis=1)\n",
        "\n",
        "# # Eliminar filas con valores nulos\n",
        "# data_cleaned = data.dropna()\n",
        "\n",
        "# # Transformaciones necesarias para preparar los datos\n",
        "\n",
        "# # 1. Codificación de variables categóricas\n",
        "# # Identificar columnas categóricas\n",
        "# categorical_cols = data_cleaned.select_dtypes(include=['object']).columns\n",
        "\n",
        "# # Usar Label Encoding para la columna objetivo (class)\n",
        "# label_encoder = LabelEncoder()\n",
        "# data_cleaned['class'] = label_encoder.fit_transform(data_cleaned['class'])\n",
        "\n",
        "# # Para las columnas categóricas, aplicar One-Hot Encoding\n",
        "# data_cleaned = pd.get_dummies(data_cleaned, columns=categorical_cols.drop('class'), drop_first=True)\n",
        "\n",
        "# # 2. Normalización de características\n",
        "# X = data_cleaned.drop('class', axis=1)\n",
        "# y = data_cleaned['class']\n",
        "\n",
        "# # Normalizar características usando StandardScaler\n",
        "# scaler = StandardScaler()\n",
        "# X_scaled = scaler.fit_transform(X)\n",
        "\n",
        "# # 3. Dividir el conjunto de datos en entrenamiento y prueba\n",
        "# X_train, X_test, y_train, y_test = train_test_split(X_scaled, y, test_size=0.2, random_state=42)\n",
        "\n",
        "# # Verificar las dimensiones de los conjuntos de datos\n",
        "# print(f'Tamaño del conjunto de entrenamiento: {X_train.shape[0]}')\n",
        "# print(f'Tamaño del conjunto de prueba: {X_test.shape[0]}')\n",
        "# \"\"\""
      ],
      "metadata": {
        "colab": {
          "base_uri": "https://localhost:8080/",
          "height": 373
        },
        "id": "o_5rsHrH7vD4",
        "outputId": "c1cd6bde-8256-4539-c853-2653c3eb58fe"
      },
      "execution_count": null,
      "outputs": [
        {
          "output_type": "error",
          "ename": "ValueError",
          "evalue": "Found array with 0 sample(s) (shape=(0, 3)) while a minimum of 1 is required by StandardScaler.",
          "traceback": [
            "\u001b[0;31m---------------------------------------------------------------------------\u001b[0m",
            "\u001b[0;31mValueError\u001b[0m                                Traceback (most recent call last)",
            "\u001b[0;32m<ipython-input-9-b2072c0cd74e>\u001b[0m in \u001b[0;36m<cell line: 38>\u001b[0;34m()\u001b[0m\n\u001b[1;32m     36\u001b[0m \u001b[0;31m# Normalizar características usando StandardScaler\u001b[0m\u001b[0;34m\u001b[0m\u001b[0;34m\u001b[0m\u001b[0m\n\u001b[1;32m     37\u001b[0m \u001b[0mscaler\u001b[0m \u001b[0;34m=\u001b[0m \u001b[0mStandardScaler\u001b[0m\u001b[0;34m(\u001b[0m\u001b[0;34m)\u001b[0m\u001b[0;34m\u001b[0m\u001b[0;34m\u001b[0m\u001b[0m\n\u001b[0;32m---> 38\u001b[0;31m \u001b[0mX_scaled\u001b[0m \u001b[0;34m=\u001b[0m \u001b[0mscaler\u001b[0m\u001b[0;34m.\u001b[0m\u001b[0mfit_transform\u001b[0m\u001b[0;34m(\u001b[0m\u001b[0mX\u001b[0m\u001b[0;34m)\u001b[0m\u001b[0;34m\u001b[0m\u001b[0;34m\u001b[0m\u001b[0m\n\u001b[0m\u001b[1;32m     39\u001b[0m \u001b[0;34m\u001b[0m\u001b[0m\n\u001b[1;32m     40\u001b[0m \u001b[0;31m# 3. Dividir el conjunto de datos en entrenamiento y prueba\u001b[0m\u001b[0;34m\u001b[0m\u001b[0;34m\u001b[0m\u001b[0m\n",
            "\u001b[0;32m/usr/local/lib/python3.10/dist-packages/sklearn/utils/_set_output.py\u001b[0m in \u001b[0;36mwrapped\u001b[0;34m(self, X, *args, **kwargs)\u001b[0m\n\u001b[1;32m    314\u001b[0m     \u001b[0;34m@\u001b[0m\u001b[0mwraps\u001b[0m\u001b[0;34m(\u001b[0m\u001b[0mf\u001b[0m\u001b[0;34m)\u001b[0m\u001b[0;34m\u001b[0m\u001b[0;34m\u001b[0m\u001b[0m\n\u001b[1;32m    315\u001b[0m     \u001b[0;32mdef\u001b[0m \u001b[0mwrapped\u001b[0m\u001b[0;34m(\u001b[0m\u001b[0mself\u001b[0m\u001b[0;34m,\u001b[0m \u001b[0mX\u001b[0m\u001b[0;34m,\u001b[0m \u001b[0;34m*\u001b[0m\u001b[0margs\u001b[0m\u001b[0;34m,\u001b[0m \u001b[0;34m**\u001b[0m\u001b[0mkwargs\u001b[0m\u001b[0;34m)\u001b[0m\u001b[0;34m:\u001b[0m\u001b[0;34m\u001b[0m\u001b[0;34m\u001b[0m\u001b[0m\n\u001b[0;32m--> 316\u001b[0;31m         \u001b[0mdata_to_wrap\u001b[0m \u001b[0;34m=\u001b[0m \u001b[0mf\u001b[0m\u001b[0;34m(\u001b[0m\u001b[0mself\u001b[0m\u001b[0;34m,\u001b[0m \u001b[0mX\u001b[0m\u001b[0;34m,\u001b[0m \u001b[0;34m*\u001b[0m\u001b[0margs\u001b[0m\u001b[0;34m,\u001b[0m \u001b[0;34m**\u001b[0m\u001b[0mkwargs\u001b[0m\u001b[0;34m)\u001b[0m\u001b[0;34m\u001b[0m\u001b[0;34m\u001b[0m\u001b[0m\n\u001b[0m\u001b[1;32m    317\u001b[0m         \u001b[0;32mif\u001b[0m \u001b[0misinstance\u001b[0m\u001b[0;34m(\u001b[0m\u001b[0mdata_to_wrap\u001b[0m\u001b[0;34m,\u001b[0m \u001b[0mtuple\u001b[0m\u001b[0;34m)\u001b[0m\u001b[0;34m:\u001b[0m\u001b[0;34m\u001b[0m\u001b[0;34m\u001b[0m\u001b[0m\n\u001b[1;32m    318\u001b[0m             \u001b[0;31m# only wrap the first output for cross decomposition\u001b[0m\u001b[0;34m\u001b[0m\u001b[0;34m\u001b[0m\u001b[0m\n",
            "\u001b[0;32m/usr/local/lib/python3.10/dist-packages/sklearn/base.py\u001b[0m in \u001b[0;36mfit_transform\u001b[0;34m(self, X, y, **fit_params)\u001b[0m\n\u001b[1;32m   1096\u001b[0m         \u001b[0;32mif\u001b[0m \u001b[0my\u001b[0m \u001b[0;32mis\u001b[0m \u001b[0;32mNone\u001b[0m\u001b[0;34m:\u001b[0m\u001b[0;34m\u001b[0m\u001b[0;34m\u001b[0m\u001b[0m\n\u001b[1;32m   1097\u001b[0m             \u001b[0;31m# fit method of arity 1 (unsupervised transformation)\u001b[0m\u001b[0;34m\u001b[0m\u001b[0;34m\u001b[0m\u001b[0m\n\u001b[0;32m-> 1098\u001b[0;31m             \u001b[0;32mreturn\u001b[0m \u001b[0mself\u001b[0m\u001b[0;34m.\u001b[0m\u001b[0mfit\u001b[0m\u001b[0;34m(\u001b[0m\u001b[0mX\u001b[0m\u001b[0;34m,\u001b[0m \u001b[0;34m**\u001b[0m\u001b[0mfit_params\u001b[0m\u001b[0;34m)\u001b[0m\u001b[0;34m.\u001b[0m\u001b[0mtransform\u001b[0m\u001b[0;34m(\u001b[0m\u001b[0mX\u001b[0m\u001b[0;34m)\u001b[0m\u001b[0;34m\u001b[0m\u001b[0;34m\u001b[0m\u001b[0m\n\u001b[0m\u001b[1;32m   1099\u001b[0m         \u001b[0;32melse\u001b[0m\u001b[0;34m:\u001b[0m\u001b[0;34m\u001b[0m\u001b[0;34m\u001b[0m\u001b[0m\n\u001b[1;32m   1100\u001b[0m             \u001b[0;31m# fit method of arity 2 (supervised transformation)\u001b[0m\u001b[0;34m\u001b[0m\u001b[0;34m\u001b[0m\u001b[0m\n",
            "\u001b[0;32m/usr/local/lib/python3.10/dist-packages/sklearn/preprocessing/_data.py\u001b[0m in \u001b[0;36mfit\u001b[0;34m(self, X, y, sample_weight)\u001b[0m\n\u001b[1;32m    876\u001b[0m         \u001b[0;31m# Reset internal state before fitting\u001b[0m\u001b[0;34m\u001b[0m\u001b[0;34m\u001b[0m\u001b[0m\n\u001b[1;32m    877\u001b[0m         \u001b[0mself\u001b[0m\u001b[0;34m.\u001b[0m\u001b[0m_reset\u001b[0m\u001b[0;34m(\u001b[0m\u001b[0;34m)\u001b[0m\u001b[0;34m\u001b[0m\u001b[0;34m\u001b[0m\u001b[0m\n\u001b[0;32m--> 878\u001b[0;31m         \u001b[0;32mreturn\u001b[0m \u001b[0mself\u001b[0m\u001b[0;34m.\u001b[0m\u001b[0mpartial_fit\u001b[0m\u001b[0;34m(\u001b[0m\u001b[0mX\u001b[0m\u001b[0;34m,\u001b[0m \u001b[0my\u001b[0m\u001b[0;34m,\u001b[0m \u001b[0msample_weight\u001b[0m\u001b[0;34m)\u001b[0m\u001b[0;34m\u001b[0m\u001b[0;34m\u001b[0m\u001b[0m\n\u001b[0m\u001b[1;32m    879\u001b[0m \u001b[0;34m\u001b[0m\u001b[0m\n\u001b[1;32m    880\u001b[0m     \u001b[0;34m@\u001b[0m\u001b[0m_fit_context\u001b[0m\u001b[0;34m(\u001b[0m\u001b[0mprefer_skip_nested_validation\u001b[0m\u001b[0;34m=\u001b[0m\u001b[0;32mTrue\u001b[0m\u001b[0;34m)\u001b[0m\u001b[0;34m\u001b[0m\u001b[0;34m\u001b[0m\u001b[0m\n",
            "\u001b[0;32m/usr/local/lib/python3.10/dist-packages/sklearn/base.py\u001b[0m in \u001b[0;36mwrapper\u001b[0;34m(estimator, *args, **kwargs)\u001b[0m\n\u001b[1;32m   1471\u001b[0m                 )\n\u001b[1;32m   1472\u001b[0m             ):\n\u001b[0;32m-> 1473\u001b[0;31m                 \u001b[0;32mreturn\u001b[0m \u001b[0mfit_method\u001b[0m\u001b[0;34m(\u001b[0m\u001b[0mestimator\u001b[0m\u001b[0;34m,\u001b[0m \u001b[0;34m*\u001b[0m\u001b[0margs\u001b[0m\u001b[0;34m,\u001b[0m \u001b[0;34m**\u001b[0m\u001b[0mkwargs\u001b[0m\u001b[0;34m)\u001b[0m\u001b[0;34m\u001b[0m\u001b[0;34m\u001b[0m\u001b[0m\n\u001b[0m\u001b[1;32m   1474\u001b[0m \u001b[0;34m\u001b[0m\u001b[0m\n\u001b[1;32m   1475\u001b[0m         \u001b[0;32mreturn\u001b[0m \u001b[0mwrapper\u001b[0m\u001b[0;34m\u001b[0m\u001b[0;34m\u001b[0m\u001b[0m\n",
            "\u001b[0;32m/usr/local/lib/python3.10/dist-packages/sklearn/preprocessing/_data.py\u001b[0m in \u001b[0;36mpartial_fit\u001b[0;34m(self, X, y, sample_weight)\u001b[0m\n\u001b[1;32m    912\u001b[0m         \"\"\"\n\u001b[1;32m    913\u001b[0m         \u001b[0mfirst_call\u001b[0m \u001b[0;34m=\u001b[0m \u001b[0;32mnot\u001b[0m \u001b[0mhasattr\u001b[0m\u001b[0;34m(\u001b[0m\u001b[0mself\u001b[0m\u001b[0;34m,\u001b[0m \u001b[0;34m\"n_samples_seen_\"\u001b[0m\u001b[0;34m)\u001b[0m\u001b[0;34m\u001b[0m\u001b[0;34m\u001b[0m\u001b[0m\n\u001b[0;32m--> 914\u001b[0;31m         X = self._validate_data(\n\u001b[0m\u001b[1;32m    915\u001b[0m             \u001b[0mX\u001b[0m\u001b[0;34m,\u001b[0m\u001b[0;34m\u001b[0m\u001b[0;34m\u001b[0m\u001b[0m\n\u001b[1;32m    916\u001b[0m             \u001b[0maccept_sparse\u001b[0m\u001b[0;34m=\u001b[0m\u001b[0;34m(\u001b[0m\u001b[0;34m\"csr\"\u001b[0m\u001b[0;34m,\u001b[0m \u001b[0;34m\"csc\"\u001b[0m\u001b[0;34m)\u001b[0m\u001b[0;34m,\u001b[0m\u001b[0;34m\u001b[0m\u001b[0;34m\u001b[0m\u001b[0m\n",
            "\u001b[0;32m/usr/local/lib/python3.10/dist-packages/sklearn/base.py\u001b[0m in \u001b[0;36m_validate_data\u001b[0;34m(self, X, y, reset, validate_separately, cast_to_ndarray, **check_params)\u001b[0m\n\u001b[1;32m    631\u001b[0m                 \u001b[0mout\u001b[0m \u001b[0;34m=\u001b[0m \u001b[0mX\u001b[0m\u001b[0;34m,\u001b[0m \u001b[0my\u001b[0m\u001b[0;34m\u001b[0m\u001b[0;34m\u001b[0m\u001b[0m\n\u001b[1;32m    632\u001b[0m         \u001b[0;32melif\u001b[0m \u001b[0;32mnot\u001b[0m \u001b[0mno_val_X\u001b[0m \u001b[0;32mand\u001b[0m \u001b[0mno_val_y\u001b[0m\u001b[0;34m:\u001b[0m\u001b[0;34m\u001b[0m\u001b[0;34m\u001b[0m\u001b[0m\n\u001b[0;32m--> 633\u001b[0;31m             \u001b[0mout\u001b[0m \u001b[0;34m=\u001b[0m \u001b[0mcheck_array\u001b[0m\u001b[0;34m(\u001b[0m\u001b[0mX\u001b[0m\u001b[0;34m,\u001b[0m \u001b[0minput_name\u001b[0m\u001b[0;34m=\u001b[0m\u001b[0;34m\"X\"\u001b[0m\u001b[0;34m,\u001b[0m \u001b[0;34m**\u001b[0m\u001b[0mcheck_params\u001b[0m\u001b[0;34m)\u001b[0m\u001b[0;34m\u001b[0m\u001b[0;34m\u001b[0m\u001b[0m\n\u001b[0m\u001b[1;32m    634\u001b[0m         \u001b[0;32melif\u001b[0m \u001b[0mno_val_X\u001b[0m \u001b[0;32mand\u001b[0m \u001b[0;32mnot\u001b[0m \u001b[0mno_val_y\u001b[0m\u001b[0;34m:\u001b[0m\u001b[0;34m\u001b[0m\u001b[0;34m\u001b[0m\u001b[0m\n\u001b[1;32m    635\u001b[0m             \u001b[0mout\u001b[0m \u001b[0;34m=\u001b[0m \u001b[0m_check_y\u001b[0m\u001b[0;34m(\u001b[0m\u001b[0my\u001b[0m\u001b[0;34m,\u001b[0m \u001b[0;34m**\u001b[0m\u001b[0mcheck_params\u001b[0m\u001b[0;34m)\u001b[0m\u001b[0;34m\u001b[0m\u001b[0;34m\u001b[0m\u001b[0m\n",
            "\u001b[0;32m/usr/local/lib/python3.10/dist-packages/sklearn/utils/validation.py\u001b[0m in \u001b[0;36mcheck_array\u001b[0;34m(array, accept_sparse, accept_large_sparse, dtype, order, copy, force_writeable, force_all_finite, ensure_2d, allow_nd, ensure_min_samples, ensure_min_features, estimator, input_name)\u001b[0m\n\u001b[1;32m   1085\u001b[0m         \u001b[0mn_samples\u001b[0m \u001b[0;34m=\u001b[0m \u001b[0m_num_samples\u001b[0m\u001b[0;34m(\u001b[0m\u001b[0marray\u001b[0m\u001b[0;34m)\u001b[0m\u001b[0;34m\u001b[0m\u001b[0;34m\u001b[0m\u001b[0m\n\u001b[1;32m   1086\u001b[0m         \u001b[0;32mif\u001b[0m \u001b[0mn_samples\u001b[0m \u001b[0;34m<\u001b[0m \u001b[0mensure_min_samples\u001b[0m\u001b[0;34m:\u001b[0m\u001b[0;34m\u001b[0m\u001b[0;34m\u001b[0m\u001b[0m\n\u001b[0;32m-> 1087\u001b[0;31m             raise ValueError(\n\u001b[0m\u001b[1;32m   1088\u001b[0m                 \u001b[0;34m\"Found array with %d sample(s) (shape=%s) while a\"\u001b[0m\u001b[0;34m\u001b[0m\u001b[0;34m\u001b[0m\u001b[0m\n\u001b[1;32m   1089\u001b[0m                 \u001b[0;34m\" minimum of %d is required%s.\"\u001b[0m\u001b[0;34m\u001b[0m\u001b[0;34m\u001b[0m\u001b[0m\n",
            "\u001b[0;31mValueError\u001b[0m: Found array with 0 sample(s) (shape=(0, 3)) while a minimum of 1 is required by StandardScaler."
          ]
        }
      ]
    },
    {
      "cell_type": "code",
      "source": [],
      "metadata": {
        "id": "kM8w823f8PE9"
      },
      "execution_count": null,
      "outputs": []
    }
  ]
}