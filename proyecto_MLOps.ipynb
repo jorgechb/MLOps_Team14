{
 "cells": [
  {
   "cell_type": "markdown",
   "metadata": {},
   "source": [
    "# Operaciones de Aprendizaje Automático\n",
    "\n",
    "## Proyecto: Secondary Mushroom Dataset\n",
    "\n",
    "## Integrantes del Equipo 14:\n",
    "\n",
    "- Rubén Díaz García A01371849\n",
    "- Jorge Chávez Badillo A01749448\n",
    "- José Manuel García Ogarrio A01795147\n",
    "- Paúl Andrés Yungán Pinduisaca A01795702\n",
    "- Ana Gabriela Fuentes Hernández A01383717\n",
    "- David Emmanuel Villanueva Martínez A01638389"
   ]
  },
  {
   "cell_type": "code",
   "execution_count": null,
   "metadata": {},
   "outputs": [],
   "source": []
  }
 ],
 "metadata": {
  "language_info": {
   "name": "python"
  }
 },
 "nbformat": 4,
 "nbformat_minor": 2
}
